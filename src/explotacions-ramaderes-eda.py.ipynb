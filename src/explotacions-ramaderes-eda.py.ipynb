{
 "cells": [
  {
   "cell_type": "markdown",
   "metadata": {},
   "source": [
    "# EDA: Registre d'explotacions ramaderes"
   ]
  },
  {
   "cell_type": "code",
   "execution_count": 80,
   "metadata": {},
   "outputs": [],
   "source": [
    "# Load packages\n",
    "import pandas as pd\n",
    "import numpy as np\n",
    "import matplotlib.pyplot as plt\n",
    "import seaborn as sns"
   ]
  },
  {
   "cell_type": "markdown",
   "metadata": {},
   "source": [
    "## Informació del *dataset*"
   ]
  },
  {
   "cell_type": "markdown",
   "metadata": {},
   "source": [
    "El *dataset* escollit és el **Registre d'explotacions ramaderes de Catalunya**, que es pot trobar a [Dades Obertes de Catalunya](https://analisi.transparenciacatalunya.cat/Medi-Rural-Pesca/Registre-d-explotacions-ramaderes/7bpt-5azk). Aquest *dataset* conté informació sobre les explotacions ramaderes de Catalunya, amb dades com la seva ubicació, el tipus d'explotació, el nombre d'animals que hi ha, etc. Dintre de cadascuna de les seccions, les explotacions es classifiquen en diferents subseccions en funció de la finalitat productiva.\n",
    "\n",
    "Les dades les proporciona el **Departament d'Acció Climàtica, Alimentació i Agenda Rural**. Aquest s'encarrega d'actualitzar les dades anualment. L'última actualització és del 8 de novembre del 2023, per tant, les dades són ben actuals.\n",
    "\n",
    "El joc de dades conté més de 26.000 registres i 49 variables. Cada fila és una explotació ramadera i les columnes que conté mostren informació identificativa de les explotacions i característiques d'aquestes. Les variables són de tipus numèric, de text i de data.\n",
    "\n",
    "Totes les dades que es mostren són públiques. De totes maneres, hi ha informació sobre empreses privades i particulars, per tant, s'ha de tenir cura amb la privacitat de les dades."
   ]
  },
  {
   "cell_type": "markdown",
   "metadata": {},
   "source": [
    "A continuació carreguem les dades, en visualitzem l'estructura i mostrem les primeres files:"
   ]
  },
  {
   "cell_type": "code",
   "execution_count": 81,
   "metadata": {},
   "outputs": [],
   "source": [
    "# Load dataset\n",
    "df = pd.read_csv('../data/raw/Registre_d_explotacions_ramaderes.csv')"
   ]
  },
  {
   "cell_type": "code",
   "execution_count": 82,
   "metadata": {},
   "outputs": [
    {
     "name": "stdout",
     "output_type": "stream",
     "text": [
      "<class 'pandas.core.frame.DataFrame'>\n",
      "RangeIndex: 25998 entries, 0 to 25997\n",
      "Data columns (total 49 columns):\n",
      " #   Column                          Non-Null Count  Dtype         \n",
      "---  ------                          --------------  -----         \n",
      " 0   Marca oficial                   25998 non-null  object        \n",
      " 1   Codi REGA                       25998 non-null  object        \n",
      " 2   Estat explotació                25998 non-null  object        \n",
      " 3   Data canvi estat explotació     25998 non-null  datetime64[ns]\n",
      " 4   Nom explotació                  25998 non-null  object        \n",
      " 5   Adreça explotació               25998 non-null  object        \n",
      " 6   Codi postal explotació          25998 non-null  object        \n",
      " 7   Servei territorial explotació   25998 non-null  object        \n",
      " 8   Província explotació            25998 non-null  object        \n",
      " 9   Comarca explotació              25998 non-null  object        \n",
      " 10  Municipi explotació             25998 non-null  object        \n",
      " 11  COOR X explotació               25995 non-null  float64       \n",
      " 12  COOR Y explotació               25995 non-null  float64       \n",
      " 13  LATITUD explotació              17243 non-null  object        \n",
      " 14  LONGITUD explotació             17243 non-null  object        \n",
      " 15  Tipus explotació                25998 non-null  object        \n",
      " 16  Espècie                         25998 non-null  object        \n",
      " 17  Subespècie                      13385 non-null  object        \n",
      " 18  Tipus subexplotació             25998 non-null  object        \n",
      " 19  Estat subexplotació             25998 non-null  object        \n",
      " 20  Data canvi estat subexplotació  25998 non-null  datetime64[ns]\n",
      " 21  Integradora                     6045 non-null   object        \n",
      " 22  Nom ADS                         11541 non-null  object        \n",
      " 23  Classificació zootècnica        19352 non-null  object        \n",
      " 24  Data classificació zootècnica   19265 non-null  datetime64[ns]\n",
      " 25  Forma de cria                   1475 non-null   object        \n",
      " 26  Autoconsum                      25659 non-null  object        \n",
      " 27  Sistema productiu               25659 non-null  object        \n",
      " 28  Criteri de sostenibilitat       25652 non-null  object        \n",
      " 29  Petita capacitat                25552 non-null  object        \n",
      " 30  Capacitat productiva            6579 non-null   object        \n",
      " 31  Codi zootècnic                  37 non-null     object        \n",
      " 32  Capacitat ponedores             25998 non-null  int64         \n",
      " 33  Capacitat femelles              25998 non-null  int64         \n",
      " 34  Capacitat mascles               25998 non-null  int64         \n",
      " 35  Capacitat cria                  25998 non-null  int64         \n",
      " 36  Capacitat reposició             25998 non-null  int64         \n",
      " 37  Capacitat engreix               25998 non-null  int64         \n",
      " 38  Capacitat recria                25998 non-null  int64         \n",
      " 39  Capacitat transició             25998 non-null  int64         \n",
      " 40  Capacitat estants               25998 non-null  int64         \n",
      " 41  Capacitat transhumants          25998 non-null  int64         \n",
      " 42  Capacitat AN>6M no repr         25998 non-null  int64         \n",
      " 43  Capacitat ous                   25998 non-null  int64         \n",
      " 44  Cap núm. total animals          25998 non-null  int64         \n",
      " 45  Total Cap ponedores             25998 non-null  int64         \n",
      " 46  Total URM                       25998 non-null  int64         \n",
      " 47  Total Nitrogen                  25998 non-null  int64         \n",
      " 48  Data actualització capacitat    25638 non-null  datetime64[ns]\n",
      "dtypes: datetime64[ns](4), float64(2), int64(16), object(27)\n",
      "memory usage: 9.7+ MB\n"
     ]
    }
   ],
   "source": [
    "# Convert postal code to object\n",
    "df['Codi postal explotació'] = df['Codi postal explotació'].astype('object')\n",
    "\n",
    "# Convert date columns to datetime\n",
    "df['Data canvi estat explotació'] = pd.to_datetime(df['Data canvi estat explotació'])\n",
    "df['Data canvi estat subexplotació'] = pd.to_datetime(df['Data canvi estat subexplotació'])\n",
    "df['Data classificació zootècnica'] = pd.to_datetime(df['Data classificació zootècnica'])\n",
    "df['Data actualització capacitat'] = pd.to_datetime(df['Data actualització capacitat'])\n",
    "\n",
    "# See the structure of the dataset\n",
    "df.info()"
   ]
  },
  {
   "cell_type": "code",
   "execution_count": 83,
   "metadata": {},
   "outputs": [
    {
     "data": {
      "text/html": [
       "<div>\n",
       "<style scoped>\n",
       "    .dataframe tbody tr th:only-of-type {\n",
       "        vertical-align: middle;\n",
       "    }\n",
       "\n",
       "    .dataframe tbody tr th {\n",
       "        vertical-align: top;\n",
       "    }\n",
       "\n",
       "    .dataframe thead th {\n",
       "        text-align: right;\n",
       "    }\n",
       "</style>\n",
       "<table border=\"1\" class=\"dataframe\">\n",
       "  <thead>\n",
       "    <tr style=\"text-align: right;\">\n",
       "      <th></th>\n",
       "      <th>Marca oficial</th>\n",
       "      <th>Codi REGA</th>\n",
       "      <th>Estat explotació</th>\n",
       "      <th>Data canvi estat explotació</th>\n",
       "      <th>Nom explotació</th>\n",
       "      <th>Adreça explotació</th>\n",
       "      <th>Codi postal explotació</th>\n",
       "      <th>Servei territorial explotació</th>\n",
       "      <th>Província explotació</th>\n",
       "      <th>Comarca explotació</th>\n",
       "      <th>...</th>\n",
       "      <th>Capacitat transició</th>\n",
       "      <th>Capacitat estants</th>\n",
       "      <th>Capacitat transhumants</th>\n",
       "      <th>Capacitat AN&gt;6M no repr</th>\n",
       "      <th>Capacitat ous</th>\n",
       "      <th>Cap núm. total animals</th>\n",
       "      <th>Total Cap ponedores</th>\n",
       "      <th>Total URM</th>\n",
       "      <th>Total Nitrogen</th>\n",
       "      <th>Data actualització capacitat</th>\n",
       "    </tr>\n",
       "  </thead>\n",
       "  <tbody>\n",
       "    <tr>\n",
       "      <th>0</th>\n",
       "      <td>0010AA</td>\n",
       "      <td>ES250010030750</td>\n",
       "      <td>Activa</td>\n",
       "      <td>1997-01-21</td>\n",
       "      <td>CASA JULIU - JORDI GASA</td>\n",
       "      <td>MASIA JULIU</td>\n",
       "      <td>25651</td>\n",
       "      <td>Alt Pirineu</td>\n",
       "      <td>Lleida</td>\n",
       "      <td>Pallars Jussà</td>\n",
       "      <td>...</td>\n",
       "      <td>0</td>\n",
       "      <td>0</td>\n",
       "      <td>0</td>\n",
       "      <td>0</td>\n",
       "      <td>0</td>\n",
       "      <td>0</td>\n",
       "      <td>0</td>\n",
       "      <td>56</td>\n",
       "      <td>7515</td>\n",
       "      <td>2021-04-10</td>\n",
       "    </tr>\n",
       "    <tr>\n",
       "      <th>1</th>\n",
       "      <td>0010AA</td>\n",
       "      <td>ES250010030750</td>\n",
       "      <td>Activa</td>\n",
       "      <td>1997-01-21</td>\n",
       "      <td>CASA JULIU - JORDI GASA</td>\n",
       "      <td>MASIA JULIU</td>\n",
       "      <td>25651</td>\n",
       "      <td>Alt Pirineu</td>\n",
       "      <td>Lleida</td>\n",
       "      <td>Pallars Jussà</td>\n",
       "      <td>...</td>\n",
       "      <td>0</td>\n",
       "      <td>0</td>\n",
       "      <td>0</td>\n",
       "      <td>0</td>\n",
       "      <td>0</td>\n",
       "      <td>0</td>\n",
       "      <td>0</td>\n",
       "      <td>29088</td>\n",
       "      <td>17574</td>\n",
       "      <td>2023-07-21</td>\n",
       "    </tr>\n",
       "    <tr>\n",
       "      <th>2</th>\n",
       "      <td>0010AA</td>\n",
       "      <td>ES250010030750</td>\n",
       "      <td>Activa</td>\n",
       "      <td>1997-01-21</td>\n",
       "      <td>CASA JULIU - JORDI GASA</td>\n",
       "      <td>MASIA JULIU</td>\n",
       "      <td>25651</td>\n",
       "      <td>Alt Pirineu</td>\n",
       "      <td>Lleida</td>\n",
       "      <td>Pallars Jussà</td>\n",
       "      <td>...</td>\n",
       "      <td>0</td>\n",
       "      <td>0</td>\n",
       "      <td>0</td>\n",
       "      <td>0</td>\n",
       "      <td>0</td>\n",
       "      <td>0</td>\n",
       "      <td>0</td>\n",
       "      <td>4</td>\n",
       "      <td>2552</td>\n",
       "      <td>2014-11-21</td>\n",
       "    </tr>\n",
       "    <tr>\n",
       "      <th>3</th>\n",
       "      <td>0010AA</td>\n",
       "      <td>ES250010030750</td>\n",
       "      <td>Activa</td>\n",
       "      <td>1997-01-21</td>\n",
       "      <td>CASA JULIU - JORDI GASA</td>\n",
       "      <td>MASIA JULIU</td>\n",
       "      <td>25651</td>\n",
       "      <td>Alt Pirineu</td>\n",
       "      <td>Lleida</td>\n",
       "      <td>Pallars Jussà</td>\n",
       "      <td>...</td>\n",
       "      <td>0</td>\n",
       "      <td>0</td>\n",
       "      <td>0</td>\n",
       "      <td>4</td>\n",
       "      <td>0</td>\n",
       "      <td>0</td>\n",
       "      <td>0</td>\n",
       "      <td>4</td>\n",
       "      <td>2552</td>\n",
       "      <td>2014-11-21</td>\n",
       "    </tr>\n",
       "    <tr>\n",
       "      <th>4</th>\n",
       "      <td>0010AB</td>\n",
       "      <td>ES250010031100</td>\n",
       "      <td>Activa</td>\n",
       "      <td>1997-04-21</td>\n",
       "      <td>CASA GONELLA</td>\n",
       "      <td>BOIXOLS</td>\n",
       "      <td>25651</td>\n",
       "      <td>Alt Pirineu</td>\n",
       "      <td>Lleida</td>\n",
       "      <td>Pallars Jussà</td>\n",
       "      <td>...</td>\n",
       "      <td>475</td>\n",
       "      <td>0</td>\n",
       "      <td>0</td>\n",
       "      <td>0</td>\n",
       "      <td>0</td>\n",
       "      <td>0</td>\n",
       "      <td>0</td>\n",
       "      <td>19702</td>\n",
       "      <td>1187525</td>\n",
       "      <td>2021-04-10</td>\n",
       "    </tr>\n",
       "  </tbody>\n",
       "</table>\n",
       "<p>5 rows × 49 columns</p>\n",
       "</div>"
      ],
      "text/plain": [
       "  Marca oficial       Codi REGA Estat explotació Data canvi estat explotació  \\\n",
       "0        0010AA  ES250010030750           Activa                  1997-01-21   \n",
       "1        0010AA  ES250010030750           Activa                  1997-01-21   \n",
       "2        0010AA  ES250010030750           Activa                  1997-01-21   \n",
       "3        0010AA  ES250010030750           Activa                  1997-01-21   \n",
       "4        0010AB  ES250010031100           Activa                  1997-04-21   \n",
       "\n",
       "            Nom explotació Adreça explotació Codi postal explotació  \\\n",
       "0  CASA JULIU - JORDI GASA       MASIA JULIU                  25651   \n",
       "1  CASA JULIU - JORDI GASA       MASIA JULIU                  25651   \n",
       "2  CASA JULIU - JORDI GASA       MASIA JULIU                  25651   \n",
       "3  CASA JULIU - JORDI GASA       MASIA JULIU                  25651   \n",
       "4             CASA GONELLA           BOIXOLS                  25651   \n",
       "\n",
       "  Servei territorial explotació Província explotació Comarca explotació  ...  \\\n",
       "0                   Alt Pirineu               Lleida      Pallars Jussà  ...   \n",
       "1                   Alt Pirineu               Lleida      Pallars Jussà  ...   \n",
       "2                   Alt Pirineu               Lleida      Pallars Jussà  ...   \n",
       "3                   Alt Pirineu               Lleida      Pallars Jussà  ...   \n",
       "4                   Alt Pirineu               Lleida      Pallars Jussà  ...   \n",
       "\n",
       "  Capacitat transició  Capacitat estants  Capacitat transhumants  \\\n",
       "0                   0                  0                       0   \n",
       "1                   0                  0                       0   \n",
       "2                   0                  0                       0   \n",
       "3                   0                  0                       0   \n",
       "4                 475                  0                       0   \n",
       "\n",
       "  Capacitat AN>6M no repr Capacitat ous Cap núm. total animals  \\\n",
       "0                       0             0                      0   \n",
       "1                       0             0                      0   \n",
       "2                       0             0                      0   \n",
       "3                       4             0                      0   \n",
       "4                       0             0                      0   \n",
       "\n",
       "  Total Cap ponedores Total URM Total Nitrogen Data actualització capacitat  \n",
       "0                   0        56           7515                   2021-04-10  \n",
       "1                   0     29088          17574                   2023-07-21  \n",
       "2                   0         4           2552                   2014-11-21  \n",
       "3                   0         4           2552                   2014-11-21  \n",
       "4                   0     19702        1187525                   2021-04-10  \n",
       "\n",
       "[5 rows x 49 columns]"
      ]
     },
     "execution_count": 83,
     "metadata": {},
     "output_type": "execute_result"
    }
   ],
   "source": [
    "# See the first rows of the dataset\n",
    "df.head()"
   ]
  },
  {
   "cell_type": "markdown",
   "metadata": {},
   "source": [
    "## Preparació de les dades"
   ]
  },
  {
   "cell_type": "markdown",
   "metadata": {},
   "source": [
    "En aquest apartat examinarem el dataset per tal d'esbrinar si el conjunt de dades conté valors perduts, valors extrems, etc. Estudiarem si cal homogeneïtzar les dades categòriques i si caldrà extreure característiques."
   ]
  },
  {
   "cell_type": "markdown",
   "metadata": {},
   "source": [
    "### Tractament dels valors perduts"
   ]
  },
  {
   "cell_type": "code",
   "execution_count": 84,
   "metadata": {},
   "outputs": [
    {
     "data": {
      "text/plain": [
       "Codi zootècnic                    99.857681\n",
       "Forma de cria                     94.326487\n",
       "Integradora                       76.748211\n",
       "Capacitat productiva              74.694207\n",
       "Nom ADS                           55.608124\n",
       "Subespècie                        48.515270\n",
       "LATITUD explotació                33.675667\n",
       "LONGITUD explotació               33.675667\n",
       "Data classificació zootècnica     25.898146\n",
       "Classificació zootècnica          25.563505\n",
       "Petita capacitat                   1.715517\n",
       "Data actualització capacitat       1.384722\n",
       "Criteri de sostenibilitat          1.330872\n",
       "Sistema productiu                  1.303946\n",
       "Autoconsum                         1.303946\n",
       "COOR Y explotació                  0.011539\n",
       "COOR X explotació                  0.011539\n",
       "Capacitat femelles                 0.000000\n",
       "Capacitat cria                     0.000000\n",
       "Capacitat reposició                0.000000\n",
       "Capacitat engreix                  0.000000\n",
       "Capacitat recria                   0.000000\n",
       "Capacitat transició                0.000000\n",
       "Capacitat estants                  0.000000\n",
       "Capacitat transhumants             0.000000\n",
       "Capacitat AN>6M no repr            0.000000\n",
       "Capacitat ous                      0.000000\n",
       "Cap núm. total animals             0.000000\n",
       "Total Cap ponedores                0.000000\n",
       "Total URM                          0.000000\n",
       "Total Nitrogen                     0.000000\n",
       "Capacitat mascles                  0.000000\n",
       "Data canvi estat explotació        0.000000\n",
       "Capacitat ponedores                0.000000\n",
       "Estat explotació                   0.000000\n",
       "Nom explotació                     0.000000\n",
       "Adreça explotació                  0.000000\n",
       "Codi REGA                          0.000000\n",
       "Codi postal explotació             0.000000\n",
       "Servei territorial explotació      0.000000\n",
       "Província explotació               0.000000\n",
       "Data canvi estat subexplotació     0.000000\n",
       "Estat subexplotació                0.000000\n",
       "Tipus subexplotació                0.000000\n",
       "Comarca explotació                 0.000000\n",
       "Espècie                            0.000000\n",
       "Tipus explotació                   0.000000\n",
       "Municipi explotació                0.000000\n",
       "Marca oficial                      0.000000\n",
       "dtype: float64"
      ]
     },
     "execution_count": 84,
     "metadata": {},
     "output_type": "execute_result"
    }
   ],
   "source": [
    "# Detectar els valors perduts en cada columna\n",
    "missing_values = df.isnull().sum()\n",
    "missing_values_percentage = (missing_values / len(df)) * 100\n",
    "\n",
    "missing_values_percentage.sort_values(ascending=False)"
   ]
  },
  {
   "cell_type": "markdown",
   "metadata": {},
   "source": [
    "L'anàlisi de les dades mancants del dataset \"Registre d'explotacions ramaderes de Catalunya\" revela els següents punts:\n",
    "\n",
    "- Valors Perduts: Algunes columnes tenen un nombre significatiu de valors mancants. Per exemple:\n",
    "    - ``Codi zootècnic`` té gairebé tots els valors mancants (99.86%).\n",
    "    - ``Forma de cria`` també té una gran quantitat de valors mancants (94.33%).\n",
    "    - ``Integradora`` i ``Capacitat productiva`` tenen un 76.75% i un 74.69% de valors mancants, respectivament.\n",
    "    - ``Subespècie`` té un 48.52% de valors mancants.\n",
    "    - ``LATITUD explotació`` i ``LONGITUD explotació`` tenen aproximadament un 33.68% de valors mancants cadascuna.\n",
    "\n",
    "- Columnes Complertes: Diverses columnes com ``Marca oficial``, ``Codi REGA``, ``Tipus explotació``, ``Espècie``, etc., no tenen cap valor mancant."
   ]
  },
  {
   "cell_type": "markdown",
   "metadata": {},
   "source": [
    "Tant ``Codi zootècnic`` com ``Forma de cria`` tenen un nombre significatiu de valors mancants.  Això és problemàtic, però abans d'eliminar-les, estudiem si estem davant de valors perduts o si realment no hi ha informació disponible. Per exemple, si una explotació no té cap animal, no tindrà cap valor per a ``Codi zootècnic``. Per tant, no es tracta d'un valor perdut, sinó que no hi ha informació disponible. Això també passa amb ``Forma de cria``. Si una explotació no cria animals, no tindrà cap valor per aquesta columna. Per tant, no es tracta d'un valor perdut, sinó que no hi ha informació disponible."
   ]
  },
  {
   "cell_type": "code",
   "execution_count": 85,
   "metadata": {},
   "outputs": [
    {
     "data": {
      "text/plain": [
       "array([nan, 'ES09RS11P', 'ES09RS18P', 'ES09ET02A', 'ES09RS12P',\n",
       "       'ES09RS28P', 'ES09RS20P', 'ES09RS32P', 'ES09RS03E', 'ES09RS05P',\n",
       "       'ES09RS22P', 'ES09RS29P', 'ES09RS19P', 'ES09RS26P', 'ES09059',\n",
       "       'ES09RS09P', 'ES09RS34P', 'ES09RS35P', 'ES09RS17P', 'ES09RS06P',\n",
       "       'ES09RS15P', 'ES09RS13P', 'ES09RS02P', 'ES09RS31P', 'ES09ET01E',\n",
       "       'ES09RS24P', 'ES09RS16P', 'ES09RS27P', 'ES09RS03P', 'ES09RS23P',\n",
       "       'ES09RS30P', 'ES09RS21P', 'ES09RS37P', 'ES09RS33P', 'ES09060'],\n",
       "      dtype=object)"
      ]
     },
     "execution_count": 85,
     "metadata": {},
     "output_type": "execute_result"
    }
   ],
   "source": [
    "df['Codi zootècnic'].unique()"
   ]
  },
  {
   "cell_type": "markdown",
   "metadata": {},
   "source": [
    "El ``Codi zootècnic`` és un identificador per a un centre o equip autoritzat, dedicat a la recollida, emmagatzematge o distribució de material genètic. Aquesta informació no és rellevant per a l'anàlisi que es vol fer, per tant, es pot eliminar la columna."
   ]
  },
  {
   "cell_type": "code",
   "execution_count": 86,
   "metadata": {},
   "outputs": [],
   "source": [
    "# Suprimir la columna 'Codi zootècnic'\n",
    "df = df.drop(columns=['Codi zootècnic'])"
   ]
  },
  {
   "cell_type": "code",
   "execution_count": 87,
   "metadata": {},
   "outputs": [
    {
     "data": {
      "text/plain": [
       "array([nan, 'Galliner en interior', 'Ecològica', \"A l'aire lliure\",\n",
       "       'A terra', 'En gàbia', 'Extensiu en interior', 'Ecològic',\n",
       "       'Camper tradicional', 'Camper', 'Camper criat en total llibertat'],\n",
       "      dtype=object)"
      ]
     },
     "execution_count": 87,
     "metadata": {},
     "output_type": "execute_result"
    }
   ],
   "source": [
    "df['Forma de cria'].unique()"
   ]
  },
  {
   "cell_type": "markdown",
   "metadata": {},
   "source": [
    "La columnna ``Forma de cria`` és una classificació atorgada segons la forma de cria de les aus de corral amb orientació productiva producció d'ous de consum (producció ecològica, en camp, a terra o en gàbies) o amb orientació productiva producció per carn (etiquetatge facultatiu).\n",
    "\n",
    "És evident, que una explotació no tindrà aquest camp si no es dedica a la cria d'aus de corral. Per tant, és normal que no hi hagi informació disponible per molts registres. De moment, no eliminarem la columna, però més endavant, si no és rellevant per a l'anàlisi, la podem eliminar."
   ]
  },
  {
   "cell_type": "markdown",
   "metadata": {},
   "source": [
    "La columna ``Integradora`` és l'empresa amb la qual l'explotació ramadera té una relació contractual. Aquesta informació no és rellevant per a l'anàlisi que es vol fer, per tant, es pot eliminar la columna."
   ]
  },
  {
   "cell_type": "code",
   "execution_count": 88,
   "metadata": {},
   "outputs": [],
   "source": [
    "# Suprimir la columna 'Integradora'\n",
    "df = df.drop(columns=['Integradora'])"
   ]
  },
  {
   "cell_type": "markdown",
   "metadata": {},
   "source": [
    "La columma ``Capacitat productiva`` és la classificació establerta per l'espècie porcina i la família apícola. En les explotacions porcines hi ha 4 grups (explotació de petita capacitat, grup I, grup II, grup III). En el cas de les explotacions apícoles es diferencien 2 grups d'explotacions: les professionals i les no professionals.\n",
    "\n",
    "Aquesta informació ens pot ser útil més endavant, així que no eliminarem la columna."
   ]
  },
  {
   "cell_type": "markdown",
   "metadata": {},
   "source": [
    "La columna ``Nom ADS`` també té molts valors perduts i la seva informació només és útil a nivell burocràtic. Per tant, es pot eliminar la columna."
   ]
  },
  {
   "cell_type": "code",
   "execution_count": 89,
   "metadata": {},
   "outputs": [],
   "source": [
    "# Suprimir la columna 'Nom ADS'\n",
    "df = df.drop(columns=['Nom ADS'])"
   ]
  },
  {
   "cell_type": "markdown",
   "metadata": {},
   "source": [
    "La resta de variables les deixem tal i com estan."
   ]
  },
  {
   "cell_type": "markdown",
   "metadata": {},
   "source": [
    "### Indentificació de les dades categòriques"
   ]
  },
  {
   "cell_type": "markdown",
   "metadata": {},
   "source": [
    "Volem veure quines columnes són categòriques. Seleccionem les variables que tenen tipus `object`. I un cop tenim la llista, veiem quines són categòriques i quines no."
   ]
  },
  {
   "cell_type": "code",
   "execution_count": 90,
   "metadata": {},
   "outputs": [
    {
     "data": {
      "text/plain": [
       "['Marca oficial',\n",
       " 'Codi REGA',\n",
       " 'Estat explotació',\n",
       " 'Nom explotació',\n",
       " 'Adreça explotació',\n",
       " 'Codi postal explotació',\n",
       " 'Servei territorial explotació',\n",
       " 'Província explotació',\n",
       " 'Comarca explotació',\n",
       " 'Municipi explotació',\n",
       " 'LATITUD explotació',\n",
       " 'LONGITUD explotació',\n",
       " 'Tipus explotació',\n",
       " 'Espècie',\n",
       " 'Subespècie',\n",
       " 'Tipus subexplotació',\n",
       " 'Estat subexplotació',\n",
       " 'Classificació zootècnica',\n",
       " 'Forma de cria',\n",
       " 'Autoconsum',\n",
       " 'Sistema productiu',\n",
       " 'Criteri de sostenibilitat',\n",
       " 'Petita capacitat',\n",
       " 'Capacitat productiva']"
      ]
     },
     "execution_count": 90,
     "metadata": {},
     "output_type": "execute_result"
    }
   ],
   "source": [
    "# Seleccionar les variables categòriques\n",
    "# Identificar les columnes categòriques del dataframe 'df'\n",
    "categorical_columns = df.select_dtypes(include=['object']).columns\n",
    "categorical_columns.tolist()"
   ]
  },
  {
   "cell_type": "markdown",
   "metadata": {},
   "source": [
    "D'aquesta llista de variables, totes es poden considerar categòriques excepte:\n",
    "- ``LATITUD explotació`` i ``LONGITUD explotació``: Són volors numèric (coordenades), encara que per les seves característiques ens interessa més guardar-los com a text o ``object``.\n",
    "- ``Marca oficial`` i ``Codi REGA``: Tot i que són text, aquestes columnes podrien actuar com a identificadors únics per a cada explotació. Depenent de l'anàlisi, podrien no ser tractades com a variables categòriques típiques, ja que podrien no aportar informació útil en models predictius o en comparacions estadístiques.\n",
    "- ``Nom explotació`` i ``Adreça explotació``: Són texts que identifiquen l'explotació. Podrien actuar com a identificador únic per a cada explotació. Depenent de l'anàlisi, podria no ser tractada com a variable categòrica típica, ja que podria no aportar informació útil en models predictius o en comparacions estadístiques.\n",
    "\n",
    "Per tant, les suprimim de la llista de variables categòriques:"
   ]
  },
  {
   "cell_type": "code",
   "execution_count": 91,
   "metadata": {},
   "outputs": [
    {
     "data": {
      "text/plain": [
       "['Estat explotació',\n",
       " 'Nom explotació',\n",
       " 'Adreça explotació',\n",
       " 'Codi postal explotació',\n",
       " 'Servei territorial explotació',\n",
       " 'Província explotació',\n",
       " 'Comarca explotació',\n",
       " 'Municipi explotació',\n",
       " 'Tipus explotació',\n",
       " 'Espècie',\n",
       " 'Subespècie',\n",
       " 'Tipus subexplotació',\n",
       " 'Estat subexplotació',\n",
       " 'Classificació zootècnica',\n",
       " 'Forma de cria',\n",
       " 'Autoconsum',\n",
       " 'Sistema productiu',\n",
       " 'Criteri de sostenibilitat',\n",
       " 'Petita capacitat',\n",
       " 'Capacitat productiva']"
      ]
     },
     "execution_count": 91,
     "metadata": {},
     "output_type": "execute_result"
    }
   ],
   "source": [
    "# Eliminar les columnes especificades de la llista de columnes categòriques\n",
    "categorical_columns = categorical_columns.drop([\n",
    "    'LATITUD explotació',\n",
    "    'LONGITUD explotació',\n",
    "    'Marca oficial',\n",
    "    'Codi REGA',\n",
    "    'Nom explotació',\n",
    "    'Adreça explotació'])\n",
    "categorical_columns.tolist()"
   ]
  },
  {
   "cell_type": "markdown",
   "metadata": {},
   "source": [
    "Canviem a tipus `category` les variables categòriques:"
   ]
  },
  {
   "cell_type": "code",
   "execution_count": 94,
   "metadata": {},
   "outputs": [
    {
     "data": {
      "text/plain": [
       "Marca oficial                             object\n",
       "Codi REGA                                 object\n",
       "Estat explotació                        category\n",
       "Data canvi estat explotació       datetime64[ns]\n",
       "Nom explotació                          category\n",
       "Adreça explotació                       category\n",
       "Codi postal explotació                  category\n",
       "Servei territorial explotació           category\n",
       "Província explotació                    category\n",
       "Comarca explotació                      category\n",
       "Municipi explotació                     category\n",
       "COOR X explotació                        float64\n",
       "COOR Y explotació                        float64\n",
       "LATITUD explotació                        object\n",
       "LONGITUD explotació                       object\n",
       "Tipus explotació                        category\n",
       "Espècie                                 category\n",
       "Subespècie                              category\n",
       "Tipus subexplotació                     category\n",
       "Estat subexplotació                     category\n",
       "Data canvi estat subexplotació    datetime64[ns]\n",
       "Classificació zootècnica                category\n",
       "Data classificació zootècnica     datetime64[ns]\n",
       "Forma de cria                           category\n",
       "Autoconsum                              category\n",
       "Sistema productiu                       category\n",
       "Criteri de sostenibilitat               category\n",
       "Petita capacitat                        category\n",
       "Capacitat productiva                    category\n",
       "Capacitat ponedores                        int64\n",
       "Capacitat femelles                         int64\n",
       "Capacitat mascles                          int64\n",
       "Capacitat cria                             int64\n",
       "Capacitat reposició                        int64\n",
       "Capacitat engreix                          int64\n",
       "Capacitat recria                           int64\n",
       "Capacitat transició                        int64\n",
       "Capacitat estants                          int64\n",
       "Capacitat transhumants                     int64\n",
       "Capacitat AN>6M no repr                    int64\n",
       "Capacitat ous                              int64\n",
       "Cap núm. total animals                     int64\n",
       "Total Cap ponedores                        int64\n",
       "Total URM                                  int64\n",
       "Total Nitrogen                             int64\n",
       "Data actualització capacitat      datetime64[ns]\n",
       "dtype: object"
      ]
     },
     "execution_count": 94,
     "metadata": {},
     "output_type": "execute_result"
    }
   ],
   "source": [
    "# Convertir les columnes categòriques identificades a tipus 'category'\n",
    "for col in categorical_columns:\n",
    "    df[col] = df[col].astype('category')\n",
    "\n",
    "# Verificar els tipus de dades actualitzats per aquestes columnes\n",
    "df.dtypes"
   ]
  },
  {
   "cell_type": "markdown",
   "metadata": {},
   "source": [
    "## Visualitzar les dades"
   ]
  },
  {
   "cell_type": "markdown",
   "metadata": {},
   "source": [
    "### Distribució de les variables categòriques"
   ]
  }
 ],
 "metadata": {
  "kernelspec": {
   "display_name": "venv",
   "language": "python",
   "name": "python3"
  },
  "language_info": {
   "codemirror_mode": {
    "name": "ipython",
    "version": 3
   },
   "file_extension": ".py",
   "mimetype": "text/x-python",
   "name": "python",
   "nbconvert_exporter": "python",
   "pygments_lexer": "ipython3",
   "version": "3.11.2"
  }
 },
 "nbformat": 4,
 "nbformat_minor": 2
}
